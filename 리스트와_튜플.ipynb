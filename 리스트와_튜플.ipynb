{
  "nbformat": 4,
  "nbformat_minor": 0,
  "metadata": {
    "colab": {
      "provenance": [],
      "authorship_tag": "ABX9TyP9awIpofGZafo2dw0Ex/MS",
      "include_colab_link": true
    },
    "kernelspec": {
      "name": "python3",
      "display_name": "Python 3"
    },
    "language_info": {
      "name": "python"
    }
  },
  "cells": [
    {
      "cell_type": "markdown",
      "metadata": {
        "id": "view-in-github",
        "colab_type": "text"
      },
      "source": [
        "<a href=\"https://colab.research.google.com/github/seirah-yang/F_roject/blob/main/%EB%A6%AC%EC%8A%A4%ED%8A%B8%EC%99%80_%ED%8A%9C%ED%94%8C.ipynb\" target=\"_parent\"><img src=\"https://colab.research.google.com/assets/colab-badge.svg\" alt=\"Open In Colab\"/></a>"
      ]
    },
    {
      "cell_type": "markdown",
      "source": [
        "## 리스트\n",
        "        1) 리스트에 적용가능한 파이썬 내장함수:\n",
        "                -  min, max, len, sum, all, any, enumerate, range, sorted\n",
        "        2) 리스트 내장함수:\n",
        "                - append, sort, reverse, count, index, pop, remove, insert"
      ],
      "metadata": {
        "id": "YqpfDBq0p0qg"
      }
    },
    {
      "cell_type": "code",
      "source": [
        "#dept라는 이름을 가진 리스트에 과 이름저장\n",
        "dept = ['내분비내과', '정형외과', '영상의학과', '가정의학과', '류마티스내과']\n",
        "\n",
        "#nums라는 이름을 가진 리스트에 숫자를 저장\n",
        "nums = [1,2,3,4,5,6,7,8,9,10]\n",
        "nums"
      ],
      "metadata": {
        "colab": {
          "base_uri": "https://localhost:8080/"
        },
        "id": "o5vK-lIBqhfs",
        "outputId": "8c93de67-be9e-4258-8cee-7bd893ebadf8"
      },
      "execution_count": 3,
      "outputs": [
        {
          "output_type": "execute_result",
          "data": {
            "text/plain": [
              "[1, 2, 3, 4, 5, 6, 7, 8, 9, 10]"
            ]
          },
          "metadata": {},
          "execution_count": 3
        }
      ]
    },
    {
      "cell_type": "code",
      "source": [
        "#병원 정보를 hostpital이라는 이름을 가진 리스트에 저장, 다양한 데이터 자료형을 가질 수 있다.\n",
        "hospital = [1, '서울대학교병원', ['1588-1700', '02-2072-0231']]\n",
        "hospital"
      ],
      "metadata": {
        "colab": {
          "base_uri": "https://localhost:8080/"
        },
        "id": "LHolFRuSqpeJ",
        "outputId": "3ffad024-b436-43ad-cdff-fbe56ce029c9"
      },
      "execution_count": 4,
      "outputs": [
        {
          "output_type": "execute_result",
          "data": {
            "text/plain": [
              "[1, '서울대학교병원', ['1588-1700', '02-2072-0231']]"
            ]
          },
          "metadata": {},
          "execution_count": 4
        }
      ]
    },
    {
      "cell_type": "code",
      "source": [
        "## 튜플: 리스트와 다르게 튜플은 한번 생성이 되면 값을 변경할 수 없다\n",
        "#환자정보를 patient라는 이름의 튜플에 저장, 다양한 데이터 자료형을 가질 수 있다.\n",
        "patient = ('pid0001', '홍길동', '남', '89세', '류마티스내과')\n",
        "patient\n",
        "# <!--참고 : 실무 코딩에서는 튜플보다는 자유롭게 사용될 수 있는 리스트를 더욱 선호함-->"
      ],
      "metadata": {
        "colab": {
          "base_uri": "https://localhost:8080/"
        },
        "id": "cbvXntV7qfgo",
        "outputId": "8fe491ff-c78c-496c-9412-60a6b4c66f4e"
      },
      "execution_count": 5,
      "outputs": [
        {
          "output_type": "execute_result",
          "data": {
            "text/plain": [
              "('pid0001', '홍길동', '남', '89세', '류마티스내과')"
            ]
          },
          "metadata": {},
          "execution_count": 5
        }
      ]
    },
    {
      "cell_type": "code",
      "source": [
        "#리스트 & 튜플 인덱싱: 콜론 (:) 을 사용하여 구간을 설정하고 대량의 데이터를 불러온다.\n",
        "nums  = [1,2,3,4,5,6,7,8,9,10]\n",
        "print(nums[0])\n",
        "print(nums[-1])\n",
        "print(nums[0:5])\n",
        "print(nums[5:10])\n",
        "print(nums[0:-1:2]) # 첫번째 데이터부터 마지막 데이터까지 2개씩 띄어 선택\n",
        "print(nums[1::2]) # 두번째 데이터부터 마지막 데이터까지 2개씩 띄어 선택\n",
        "\n",
        "## 리스트 추가 및 삭제: 생성된 튜플에는 값을 추가하거나 조작할 수 없지만, 리스트에는 값을 추가하고, 삭제하는 것이 가능하다.\n",
        "\n",
        "# <!-- 리스트에 append를 사용하면 리스트의 가장 뒤에 새로운 값 하나를 추가할 수 있다 -->\n",
        "# <!-- extend 혹은 ‘+’ 연산을 활용하면 리스트를 합치는 것도 가능하다 -->\n",
        "# <!-- 리스트 내의 값을 삭제할 때는 remove명령어를 사용한다 -->"
      ],
      "metadata": {
        "colab": {
          "base_uri": "https://localhost:8080/"
        },
        "id": "r5XP_BT6pwqj",
        "outputId": "3a0b9655-6ab8-4548-d27d-74d61f73d6bb"
      },
      "execution_count": 6,
      "outputs": [
        {
          "output_type": "stream",
          "name": "stdout",
          "text": [
            "1\n",
            "10\n",
            "[1, 2, 3, 4, 5]\n",
            "[6, 7, 8, 9, 10]\n",
            "[1, 3, 5, 7, 9]\n",
            "[2, 4, 6, 8, 10]\n"
          ]
        }
      ]
    },
    {
      "cell_type": "code",
      "source": [
        "#빈리스트 생성\n",
        "num =[]\n",
        "num"
      ],
      "metadata": {
        "colab": {
          "base_uri": "https://localhost:8080/"
        },
        "id": "QyxS_ioDq2dl",
        "outputId": "26c7096c-7753-4de6-ab47-3778f877393f"
      },
      "execution_count": 8,
      "outputs": [
        {
          "output_type": "execute_result",
          "data": {
            "text/plain": [
              "[]"
            ]
          },
          "metadata": {},
          "execution_count": 8
        }
      ]
    },
    {
      "cell_type": "code",
      "source": [
        "num.append(2)\n",
        "num"
      ],
      "metadata": {
        "colab": {
          "base_uri": "https://localhost:8080/"
        },
        "id": "3eCuisJLq2Tq",
        "outputId": "8805fd0b-54b7-49e7-80f6-403755fc55f3"
      },
      "execution_count": 9,
      "outputs": [
        {
          "output_type": "execute_result",
          "data": {
            "text/plain": [
              "[2]"
            ]
          },
          "metadata": {},
          "execution_count": 9
        }
      ]
    },
    {
      "cell_type": "code",
      "source": [
        "num.extend([1,2,3,4])\n",
        "num"
      ],
      "metadata": {
        "colab": {
          "base_uri": "https://localhost:8080/"
        },
        "id": "nTEv3U0tq7z6",
        "outputId": "af4a8cf7-8c0c-4267-e8e4-0d205e2e688a"
      },
      "execution_count": 10,
      "outputs": [
        {
          "output_type": "execute_result",
          "data": {
            "text/plain": [
              "[2, 1, 2, 3, 4]"
            ]
          },
          "metadata": {},
          "execution_count": 10
        }
      ]
    },
    {
      "cell_type": "code",
      "source": [
        "num = num + [1,2,3,4]\n",
        "num"
      ],
      "metadata": {
        "colab": {
          "base_uri": "https://localhost:8080/"
        },
        "id": "dwwNpza3q9PO",
        "outputId": "c6d729bb-85e2-40b7-d574-9222329df531"
      },
      "execution_count": 11,
      "outputs": [
        {
          "output_type": "execute_result",
          "data": {
            "text/plain": [
              "[2, 1, 2, 3, 4, 1, 2, 3, 4]"
            ]
          },
          "metadata": {},
          "execution_count": 11
        }
      ]
    },
    {
      "cell_type": "code",
      "source": [
        "num.remove(2)\n",
        "print(num)"
      ],
      "metadata": {
        "colab": {
          "base_uri": "https://localhost:8080/"
        },
        "id": "4lbSAud_pwnQ",
        "outputId": "cccd4c44-d617-4a22-a828-dc3200fcf1ce"
      },
      "execution_count": 12,
      "outputs": [
        {
          "output_type": "stream",
          "name": "stdout",
          "text": [
            "[1, 2, 3, 4, 1, 2, 3, 4]\n"
          ]
        }
      ]
    },
    {
      "cell_type": "code",
      "source": [
        "## 리스트 정렬하기\n",
        "\n",
        "#알파벳 순으로 오름차순 정렬\n",
        "hospitals  = ['서울대학교병원', '세브란스병원', '서울성모병원', '아산병원', '삼성서울병원']\n",
        "hospitals.sort()\n",
        "print(hospitals)"
      ],
      "metadata": {
        "colab": {
          "base_uri": "https://localhost:8080/"
        },
        "id": "hd4_tsI8rGIR",
        "outputId": "4a6b9ee3-c9f7-467b-e7a4-a6893ec9117b"
      },
      "execution_count": 13,
      "outputs": [
        {
          "output_type": "stream",
          "name": "stdout",
          "text": [
            "['삼성서울병원', '서울대학교병원', '서울성모병원', '세브란스병원', '아산병원']\n"
          ]
        }
      ]
    },
    {
      "cell_type": "code",
      "source": [
        "#내림차순 정렬\n",
        "hospitals.sort(reverse=True)\n",
        "print(hospitals)\n"
      ],
      "metadata": {
        "colab": {
          "base_uri": "https://localhost:8080/"
        },
        "id": "MDhD0yCDrJQt",
        "outputId": "c21a9322-24ea-4ee9-873c-f4e2a6c7ea23"
      },
      "execution_count": 14,
      "outputs": [
        {
          "output_type": "stream",
          "name": "stdout",
          "text": [
            "['아산병원', '세브란스병원', '서울성모병원', '서울대학교병원', '삼성서울병원']\n"
          ]
        }
      ]
    },
    {
      "cell_type": "code",
      "source": [
        "#Sorted\n",
        "sorted(hospitals)\n",
        "print(hospitals)"
      ],
      "metadata": {
        "colab": {
          "base_uri": "https://localhost:8080/"
        },
        "id": "-XK_rH4YrLKp",
        "outputId": "3fb96fe6-c0f6-443e-be26-01cb31ee1aa3"
      },
      "execution_count": 15,
      "outputs": [
        {
          "output_type": "stream",
          "name": "stdout",
          "text": [
            "['아산병원', '세브란스병원', '서울성모병원', '서울대학교병원', '삼성서울병원']\n"
          ]
        }
      ]
    },
    {
      "cell_type": "code",
      "source": [
        "hospitals = sorted(hospitals)\n",
        "print(hospitals)\n",
        "\n",
        "#<!-- 리스트 내장함수로 사용하는 sort의 경우 함수를 실행한 리스트에 바로 적용되는 반면, sorted의 경우 파이썬 내장함수로서 리스트에 바로 적용되지 않는다 -->\n",
        "#<!-- sorted를 활용하고 싶다면, sorted 앞에 변수명을 적는 형태 ‘변수명 = sorted(리스트)‘ 로 작성되어야 리스트에 정렬된 값을 활용할 수 있다 -->"
      ],
      "metadata": {
        "colab": {
          "base_uri": "https://localhost:8080/"
        },
        "id": "CLOXm5d4pwee",
        "outputId": "b0546337-7cb8-497c-9e1b-484b6e2bd888"
      },
      "execution_count": 16,
      "outputs": [
        {
          "output_type": "stream",
          "name": "stdout",
          "text": [
            "['삼성서울병원', '서울대학교병원', '서울성모병원', '세브란스병원', '아산병원']\n"
          ]
        }
      ]
    },
    {
      "cell_type": "code",
      "source": [
        "#리스트순서 뒤집기: reverse함수를 사용하면 정렬과는 다르게 현재 있는 데이터 순서를 반대로 뒤집을 수 있다.\n",
        "hospitals = ['서울대학교병원', '세브란스병원', '서울성모병원', '아산병원', '삼성서울병원']\n",
        "hospitals.reverse()\n",
        "print(hospitals)"
      ],
      "metadata": {
        "colab": {
          "base_uri": "https://localhost:8080/"
        },
        "id": "ZgWw9IOjpwbL",
        "outputId": "09ce42a6-9e97-40c0-d5df-fb662cb9200a"
      },
      "execution_count": 17,
      "outputs": [
        {
          "output_type": "stream",
          "name": "stdout",
          "text": [
            "['삼성서울병원', '아산병원', '서울성모병원', '세브란스병원', '서울대학교병원']\n"
          ]
        }
      ]
    },
    {
      "cell_type": "code",
      "source": [
        "#인덱스 찾기\n",
        "medicines = [\"A\",\"B\",\"E\",\"H\",\"S\",\"E\"]\n",
        "print(medicines.index(\"E\"))\n"
      ],
      "metadata": {
        "colab": {
          "base_uri": "https://localhost:8080/"
        },
        "id": "fyvFNBIJpwYQ",
        "outputId": "8fdca385-9822-42f6-917e-f3b4b8a291ce"
      },
      "execution_count": 18,
      "outputs": [
        {
          "output_type": "stream",
          "name": "stdout",
          "text": [
            "2\n"
          ]
        }
      ]
    },
    {
      "cell_type": "code",
      "source": [
        "#데이터의 리스트 내 index찾기\n",
        "medicines = [\"A\",\"B\",\"E\",\"H\",\"S\",\"E\"]\n",
        "print(medicines.count(\"E\"))"
      ],
      "metadata": {
        "colab": {
          "base_uri": "https://localhost:8080/"
        },
        "id": "8hGZbnU5pwU_",
        "outputId": "68c048f8-611c-41c1-d46c-dd388ce82994"
      },
      "execution_count": 19,
      "outputs": [
        {
          "output_type": "stream",
          "name": "stdout",
          "text": [
            "2\n"
          ]
        }
      ]
    },
    {
      "cell_type": "code",
      "execution_count": 27,
      "metadata": {
        "colab": {
          "base_uri": "https://localhost:8080/"
        },
        "id": "eVV5gROMprpu",
        "outputId": "6c412eb7-93d3-49ba-88bc-deb86d091afb"
      },
      "outputs": [
        {
          "output_type": "execute_result",
          "data": {
            "text/plain": [
              "(['차병원', '서울대학교병원', '세브란스병원', '서울성모병원', '아산병원', '삼성서울병원'], 6)"
            ]
          },
          "metadata": {},
          "execution_count": 27
        }
      ],
      "source": [
        "#데이터 삽입하기\n",
        "hospitals = ['서울대학교병원', '세브란스병원', '서울성모병원', '아산병원', '삼성서울병원']\n",
        "hospitals.insert(0,\"차병원\")\n",
        "hospitals, len(hospitals)"
      ]
    },
    {
      "cell_type": "code",
      "source": [
        "hospitals.insert(len(hospitals),\"서북병원\")\n",
        "hospitals, len(hospitals)"
      ],
      "metadata": {
        "colab": {
          "base_uri": "https://localhost:8080/"
        },
        "id": "t2eHDY7IrRTj",
        "outputId": "e3c0fcd5-bed3-4f53-ea08-705ce34ada67"
      },
      "execution_count": 28,
      "outputs": [
        {
          "output_type": "execute_result",
          "data": {
            "text/plain": [
              "(['차병원', '서울대학교병원', '세브란스병원', '서울성모병원', '아산병원', '삼성서울병원', '서북병원'], 7)"
            ]
          },
          "metadata": {},
          "execution_count": 28
        }
      ]
    },
    {
      "cell_type": "code",
      "source": [],
      "metadata": {
        "id": "v42Q0K8JroDO"
      },
      "execution_count": null,
      "outputs": []
    }
  ]
}