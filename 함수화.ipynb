{
  "nbformat": 4,
  "nbformat_minor": 0,
  "metadata": {
    "colab": {
      "provenance": [],
      "authorship_tag": "ABX9TyM6PvNeHppBdpHK+IXZs9oA",
      "include_colab_link": true
    },
    "kernelspec": {
      "name": "python3",
      "display_name": "Python 3"
    },
    "language_info": {
      "name": "python"
    }
  },
  "cells": [
    {
      "cell_type": "markdown",
      "metadata": {
        "id": "view-in-github",
        "colab_type": "text"
      },
      "source": [
        "<a href=\"https://colab.research.google.com/github/seirah-yang/F_roject/blob/main/%ED%95%A8%EC%88%98%ED%99%94.ipynb\" target=\"_parent\"><img src=\"https://colab.research.google.com/assets/colab-badge.svg\" alt=\"Open In Colab\"/></a>"
      ]
    },
    {
      "cell_type": "markdown",
      "source": [
        "## 1. 함수의 정의 및 Return\n",
        "        함수란 어떤 일을 수행하는 코드의 묶음을 의미한다.\n",
        "            - 사용목적: 주로 같은 처리를 반복하거나 프로그램을 읽기 쉽게 정리하기 위함\n",
        "            - 함수는 서식 과 같이 'def' 키워드와 'return' 키워드를 사용하여 제작한다.\n",
        "\n",
        "```\n",
        "#함수서식\n",
        "if [조건식]:\n",
        "     [조건식이 참일 때 실행코드]\n",
        " else:\n",
        "     [조건식이 참이 아닐 때 실행코드]\n",
        "\n",
        "# 함수식: def 키워드와 Return 키워드를 사용하여 제작\n",
        "def 함수이름(매개 변수 목록):     #함수정의\n",
        "     함수에서 실행되는 부분\n",
        "     return 출력변수 이름\n",
        "\n",
        "함수이름(매개변수)                     #매개변수를 넘겨주고 함수를 호출\n",
        "```\n"
      ],
      "metadata": {
        "id": "Otemr6Z3Qr6c"
      }
    },
    {
      "cell_type": "code",
      "source": [
        "#1)함수 기본구조\n",
        "# Hello [입력값] world! 문구를 출력하는 함수 정의\n",
        "def hello(x): #함수정의\n",
        "\tprint('hello'+ x + '!')\n",
        "\n",
        "hello('world')"
      ],
      "metadata": {
        "colab": {
          "base_uri": "https://localhost:8080/"
        },
        "id": "XVKyObAfRys2",
        "outputId": "f193b144-fe45-4167-d9dc-62d403c7d403"
      },
      "execution_count": 4,
      "outputs": [
        {
          "output_type": "stream",
          "name": "stdout",
          "text": [
            "helloworld!\n"
          ]
        }
      ]
    },
    {
      "cell_type": "code",
      "source": [
        "#환자 몸무게(kg)와 키(cm)를 입력하면 bmi지수(정수)를 계산하는 bmi_calc함수 정의\n",
        "def bmi_calc(weight,height):\n",
        "\theight_m=height/100\n",
        "\treturn int(weight/height_m**2)\n",
        "bmi_calc(52,167)"
      ],
      "metadata": {
        "colab": {
          "base_uri": "https://localhost:8080/"
        },
        "id": "0c-W6ZJYR2yG",
        "outputId": "0b575c65-ae02-492d-aaad-2979576fe37a"
      },
      "execution_count": 5,
      "outputs": [
        {
          "output_type": "execute_result",
          "data": {
            "text/plain": [
              "18"
            ]
          },
          "metadata": {},
          "execution_count": 5
        }
      ]
    },
    {
      "cell_type": "code",
      "source": [
        "# 2) 여러개의 데이터 값(함수실행결과) 변수에 입력하기\n",
        "def add(x,y): #덧셈을 하는 함수 add 정의\n",
        "\treturn x, y, x+y\n",
        "a, b, c = add(2,5)\n",
        "\n",
        "print(a,b,c)"
      ],
      "metadata": {
        "colab": {
          "base_uri": "https://localhost:8080/"
        },
        "id": "SHwZOlMSSBHB",
        "outputId": "d15000bd-7137-4685-dfaa-0f37a1b87492"
      },
      "execution_count": 6,
      "outputs": [
        {
          "output_type": "stream",
          "name": "stdout",
          "text": [
            "2 5 7\n"
          ]
        }
      ]
    },
    {
      "cell_type": "markdown",
      "source": [
        "## 2. 람다함수(lambda function)\n",
        "    - 람다함수는 함수 자체를 다른 함수의 인수로 넣어 함수의 출력값을 함수로 받을 때 사용한다.\n",
        "    - 람다함수는 함수에 이름을 주지 않아도 된다.\n",
        "    - 코드를 줄여 쓸 수 있는 방법으로 실무코딩에서 유용하게 사용할 수 있다."
      ],
      "metadata": {
        "id": "PkSIzSsRSBUQ"
      }
    },
    {
      "cell_type": "code",
      "source": [
        "# 1) 입력값에 제곱을 하는 함수 2가지 버전\n",
        "#    (1) 기존 방식\n",
        "def f(x):\n",
        "\treturn x**2\n",
        "f(2)"
      ],
      "metadata": {
        "colab": {
          "base_uri": "https://localhost:8080/"
        },
        "id": "yCt8CrynSQz5",
        "outputId": "bab9f3d9-9985-4082-a1eb-f85f0c1f05c4"
      },
      "execution_count": 7,
      "outputs": [
        {
          "output_type": "execute_result",
          "data": {
            "text/plain": [
              "4"
            ]
          },
          "metadata": {},
          "execution_count": 7
        }
      ]
    },
    {
      "cell_type": "code",
      "source": [
        "#   (2)람다함수\n",
        "f= lambda x:x**2\n",
        "f(2)"
      ],
      "metadata": {
        "colab": {
          "base_uri": "https://localhost:8080/"
        },
        "id": "6Fv0HgClSQq5",
        "outputId": "8d4d610b-d1a5-4f0a-ae98-43c98f1b6fe0"
      },
      "execution_count": 8,
      "outputs": [
        {
          "output_type": "execute_result",
          "data": {
            "text/plain": [
              "4"
            ]
          },
          "metadata": {},
          "execution_count": 8
        }
      ]
    },
    {
      "cell_type": "markdown",
      "source": [
        "## 3. 지역변수(local variable)와 전역변수(global variable)\n",
        "\n",
        "전역변수: 함수바깥에서 만들어진 변수\n",
        "   - 지역변수와 반대로 함수안에서 사용 가능하다.\n",
        "   - 함수 내에서 전역변수를 지역변수로 사용 시 함수 내에서는 지역변수를 사용하지만,\n",
        "   -  함수 바깥으로 나오면 지역변수는 사라지고 원래의 변수값으로 돌아온다.\n",
        "\n",
        "(1) global_var라는 이름의 전역 변수를 활용한 함수 만들기\n"
      ],
      "metadata": {
        "id": "Uk5QOwL7SZ6n"
      }
    },
    {
      "cell_type": "code",
      "source": [
        "global_var = 3\n",
        "\n",
        "def f(x):\n",
        "\ty = global_var *  x\n",
        "\tprint(\"y=\", y)\n",
        "\tprint(\"global_var=\", global_var)\n",
        "\treturn y\n",
        "f(10)"
      ],
      "metadata": {
        "colab": {
          "base_uri": "https://localhost:8080/"
        },
        "id": "MFP8evJFSvgW",
        "outputId": "292eac43-ee08-48a7-87ce-01382bbef936"
      },
      "execution_count": 10,
      "outputs": [
        {
          "output_type": "stream",
          "name": "stdout",
          "text": [
            "y= 30\n",
            "global_var= 3\n"
          ]
        },
        {
          "output_type": "execute_result",
          "data": {
            "text/plain": [
              "30"
            ]
          },
          "metadata": {},
          "execution_count": 10
        }
      ]
    },
    {
      "cell_type": "markdown",
      "source": [
        "(2) 함수 내에서 전역변수 값 변경이 불가능함을 확인하는 함수"
      ],
      "metadata": {
        "id": "qhsRpGc4S0ze"
      }
    },
    {
      "cell_type": "code",
      "source": [
        "global_var = 3\n",
        "\n",
        "def f(x):\n",
        "\tglobal_var = 99\n",
        "\ty = global_var *x\n",
        "\tprint(\"y=\", y)\n",
        "\tprint(\"global_var=\", global_var)\n",
        "\treturn y\n",
        "\n",
        "f(2)\n",
        "\n",
        "print(\"globar_var:\", global_var)"
      ],
      "metadata": {
        "colab": {
          "base_uri": "https://localhost:8080/"
        },
        "id": "2XbsuVxgSvO4",
        "outputId": "d126a87b-f648-4736-b2ab-47c14e161e36"
      },
      "execution_count": 13,
      "outputs": [
        {
          "output_type": "stream",
          "name": "stdout",
          "text": [
            "y= 198\n",
            "global_var= 99\n",
            "globar_var: 3\n"
          ]
        }
      ]
    },
    {
      "cell_type": "markdown",
      "source": [
        "(3) 함수 내에서 전역변수를 선언하는 함수"
      ],
      "metadata": {
        "id": "Iw75s_7xS-8P"
      }
    },
    {
      "cell_type": "code",
      "execution_count": 14,
      "metadata": {
        "colab": {
          "base_uri": "https://localhost:8080/"
        },
        "id": "a0mJz1hfQqSq",
        "outputId": "1489efbb-c8dc-4c45-96f7-b8a23bc94cad"
      },
      "outputs": [
        {
          "output_type": "stream",
          "name": "stdout",
          "text": [
            "y= 198\n",
            "global_var= 99\n",
            "global_var:  3\n"
          ]
        }
      ],
      "source": [
        "global_var = 3\n",
        "\n",
        "def f(x):\n",
        "\tglobal_var = 99\n",
        "\ty = global_var *x\n",
        "\tprint(\"y=\", y)\n",
        "\tprint(\"global_var=\", global_var)\n",
        "\treturn y\n",
        "f(2)\n",
        "\n",
        "print(\"global_var: \", global_var)"
      ]
    },
    {
      "cell_type": "code",
      "source": [],
      "metadata": {
        "id": "YBIdNXJhTGQx"
      },
      "execution_count": null,
      "outputs": []
    }
  ]
}