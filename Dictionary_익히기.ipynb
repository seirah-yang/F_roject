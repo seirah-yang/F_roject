{
  "nbformat": 4,
  "nbformat_minor": 0,
  "metadata": {
    "colab": {
      "provenance": [],
      "authorship_tag": "ABX9TyPF7Vj9+pW/9sst1o7ogOw5",
      "include_colab_link": true
    },
    "kernelspec": {
      "name": "python3",
      "display_name": "Python 3"
    },
    "language_info": {
      "name": "python"
    }
  },
  "cells": [
    {
      "cell_type": "markdown",
      "metadata": {
        "id": "view-in-github",
        "colab_type": "text"
      },
      "source": [
        "<a href=\"https://colab.research.google.com/github/seirah-yang/F_roject/blob/main/Dictionary_%EC%9D%B5%ED%9E%88%EA%B8%B0.ipynb\" target=\"_parent\"><img src=\"https://colab.research.google.com/assets/colab-badge.svg\" alt=\"Open In Colab\"/></a>"
      ]
    },
    {
      "cell_type": "markdown",
      "source": [
        " ### Dictionary 익히기\n",
        "  \n",
        "        dirctionary 예시\n",
        "            1) 딕셔너리 기본구조: {key:value}\n",
        "            키 값은 자료형과 상관없이 지정할 수 있으며, 한 번 결정된 키는 변경이 불가하고, 값은 변경할 수 있다"
      ],
      "metadata": {
        "id": "u5Kc8qfp8KQp"
      }
    },
    {
      "cell_type": "code",
      "source": [
        "#딕셔너리 기본구조{key:value}\n",
        "hospital_dict = {'내분비내과':130, '정형외과':122, '가정의학과' :342, '류마티스내과': 74}\n",
        "hospital_dict"
      ],
      "metadata": {
        "colab": {
          "base_uri": "https://localhost:8080/"
        },
        "id": "g1whGX_O-fZr",
        "outputId": "1be34ed9-4087-42d3-ac51-6c0ad0b8aef2"
      },
      "execution_count": 15,
      "outputs": [
        {
          "output_type": "execute_result",
          "data": {
            "text/plain": [
              "{'내분비내과': 130, '정형외과': 122, '가정의학과': 342, '류마티스내과': 74}"
            ]
          },
          "metadata": {},
          "execution_count": 15
        }
      ]
    },
    {
      "cell_type": "code",
      "source": [
        "#key에 튜플사용\n",
        "dictionary_tuple = {(1,5):5, (3,3):3}\n",
        "dictionary_tuple"
      ],
      "metadata": {
        "colab": {
          "base_uri": "https://localhost:8080/"
        },
        "id": "1g53TCe4-3r1",
        "outputId": "9c37d8c4-be92-4698-a221-61a6599ac5eb"
      },
      "execution_count": 17,
      "outputs": [
        {
          "output_type": "execute_result",
          "data": {
            "text/plain": [
              "{(1, 5): 5, (3, 3): 3}"
            ]
          },
          "metadata": {},
          "execution_count": 17
        }
      ]
    },
    {
      "cell_type": "code",
      "source": [
        "# 키에 float 자료형 사용\n",
        "dictionary_float = {3.6:5, \"abc\":3}\n",
        "dictionary_float"
      ],
      "metadata": {
        "colab": {
          "base_uri": "https://localhost:8080/"
        },
        "id": "x3Ak4T0d-3jR",
        "outputId": "c6d65987-db81-407d-9b4a-da48cd087ed2"
      },
      "execution_count": 18,
      "outputs": [
        {
          "output_type": "execute_result",
          "data": {
            "text/plain": [
              "{3.6: 5, 'abc': 3}"
            ]
          },
          "metadata": {},
          "execution_count": 18
        }
      ]
    },
    {
      "cell_type": "code",
      "source": [
        "# 키에 bool 사용\n",
        "dictionary_bool = {True:5, \"abc\":3}\n",
        "dictionary_bool"
      ],
      "metadata": {
        "colab": {
          "base_uri": "https://localhost:8080/"
        },
        "id": "seHNx_H0-55D",
        "outputId": "6e0ca619-2fce-4199-a20c-b04c355c5e42"
      },
      "execution_count": 19,
      "outputs": [
        {
          "output_type": "execute_result",
          "data": {
            "text/plain": [
              "{True: 5, 'abc': 3}"
            ]
          },
          "metadata": {},
          "execution_count": 19
        }
      ]
    },
    {
      "cell_type": "code",
      "source": [
        "# dictionary 추가/삭제: 딕셔너리는 [ ] 대괄호 안에 키 값을 지정해주면 저장된 값을 불러올 수 있다.\n",
        "# 병원 오전 방문객 수\n",
        "hospital_dict = {'내분비내과':130, '정형외과':122, '가정의학과' :342, '류마티스내과': 74}\n",
        "\n",
        "# hospital_dict에 정형외과 찾기\n",
        "hospital_dict[\"정형외과\"]"
      ],
      "metadata": {
        "colab": {
          "base_uri": "https://localhost:8080/"
        },
        "id": "VYhVmQK-_NZ2",
        "outputId": "167ef6a4-d532-4b40-aea0-ae0370a9ae9c"
      },
      "execution_count": 31,
      "outputs": [
        {
          "output_type": "execute_result",
          "data": {
            "text/plain": [
              "122"
            ]
          },
          "metadata": {},
          "execution_count": 31
        }
      ]
    },
    {
      "cell_type": "code",
      "source": [
        "# hospital_dict에 치과 35명을 추가하기: 이미 만들어진 딕셔너리에 대해서는 새로운 키를 대괄호에 작성하고 값을 삽입\n",
        "hospital_dict = {'내분비내과':130, '정형외과':122, '가정의학과' :342, '류마티스내과': 74}\n",
        "hospital_dict[\"치과\"] = 35\n",
        "hospital_dict"
      ],
      "metadata": {
        "colab": {
          "base_uri": "https://localhost:8080/"
        },
        "id": "0mT8kX3i-fJG",
        "outputId": "6d12fade-22f2-4d94-bd2b-c15103de64b3"
      },
      "execution_count": 32,
      "outputs": [
        {
          "output_type": "execute_result",
          "data": {
            "text/plain": [
              "{'내분비내과': 130, '정형외과': 122, '가정의학과': 342, '류마티스내과': 74, '치과': 35}"
            ]
          },
          "metadata": {},
          "execution_count": 32
        }
      ]
    },
    {
      "cell_type": "code",
      "source": [
        "hospital_dict = {'내분비내과':130, '정형외과':122, '가정의학과' :342, '류마티스내과': 74}\n",
        "# hospital_dict에 정형외과를 삭제하기\n",
        "del hospital_dict[\"정형외과\"]\n",
        "hospital_dict"
      ],
      "metadata": {
        "colab": {
          "base_uri": "https://localhost:8080/"
        },
        "id": "R1MN2bq9_ylL",
        "outputId": "4d4717a8-c630-4d2c-e3ce-f2e8e6d4d0a3"
      },
      "execution_count": 33,
      "outputs": [
        {
          "output_type": "execute_result",
          "data": {
            "text/plain": [
              "{'내분비내과': 130, '가정의학과': 342, '류마티스내과': 74}"
            ]
          },
          "metadata": {},
          "execution_count": 33
        }
      ]
    },
    {
      "cell_type": "code",
      "source": [
        "hospital_dict ={'내분비내과': 130, '가정의학과': 342, '류마티스내과': 74}\n",
        "\n",
        "# hospital_dict에 삭제된 정형외과 찾기\n",
        "hospital_dict[\"정형외과\"]\n"
      ],
      "metadata": {
        "colab": {
          "base_uri": "https://localhost:8080/",
          "height": 176
        },
        "id": "yh3iQwet_6Zy",
        "outputId": "48605da6-c24a-40b6-e3fc-8642a0ad8798"
      },
      "execution_count": 34,
      "outputs": [
        {
          "output_type": "error",
          "ename": "KeyError",
          "evalue": "'정형외과'",
          "traceback": [
            "\u001b[0;31m---------------------------------------------------------------------------\u001b[0m",
            "\u001b[0;31mKeyError\u001b[0m                                  Traceback (most recent call last)",
            "\u001b[0;32m/tmp/ipython-input-3330037793.py\u001b[0m in \u001b[0;36m<cell line: 0>\u001b[0;34m()\u001b[0m\n\u001b[1;32m      2\u001b[0m \u001b[0;34m\u001b[0m\u001b[0m\n\u001b[1;32m      3\u001b[0m \u001b[0;31m# hospital_dict에 삭제된 정형외과 찾기\u001b[0m\u001b[0;34m\u001b[0m\u001b[0;34m\u001b[0m\u001b[0m\n\u001b[0;32m----> 4\u001b[0;31m \u001b[0mhospital_dict\u001b[0m\u001b[0;34m[\u001b[0m\u001b[0;34m\"정형외과\"\u001b[0m\u001b[0;34m]\u001b[0m\u001b[0;34m\u001b[0m\u001b[0;34m\u001b[0m\u001b[0m\n\u001b[0m",
            "\u001b[0;31mKeyError\u001b[0m: '정형외과'"
          ]
        }
      ]
    },
    {
      "cell_type": "markdown",
      "source": [
        "\n",
        " - defaultdict사용법: defaultdict은 dict과 유사하지만 존재하지 않는 키를 조회하면 에러가 나는 대신 초기에 설정한 디폴트 자료형의 blank 값을 기준으로 해당 키에 대한 아이템을 딕셔너리에 추가\n",
        " - dictionary 와 defaultdict비교"
      ],
      "metadata": {
        "id": "tsF0tSuq-uo0"
      }
    },
    {
      "cell_type": "code",
      "source": [
        " ####################### 딕셔너리를 사용했을 때 #######################\n",
        "\n",
        "hospital_dict = dict()\n",
        "hospital_dict['내분비내과'] = 10\n",
        "hospital_dict['정형외과'] = 2\n",
        "\n",
        "print(hospital_dict)"
      ],
      "metadata": {
        "colab": {
          "base_uri": "https://localhost:8080/"
        },
        "id": "WmYR4sy6-fA_",
        "outputId": "3e643f56-a20e-427e-d142-634b3190cf8f"
      },
      "execution_count": 38,
      "outputs": [
        {
          "output_type": "stream",
          "name": "stdout",
          "text": [
            "{'내분비내과': 10, '정형외과': 2}\n"
          ]
        }
      ]
    },
    {
      "cell_type": "code",
      "source": [
        "print(hospital_dict['가정의학과'])"
      ],
      "metadata": {
        "colab": {
          "base_uri": "https://localhost:8080/",
          "height": 141
        },
        "id": "v6hKlyGLAVan",
        "outputId": "dfe5815d-d851-4ec1-a4c8-43f5049dd42c"
      },
      "execution_count": 39,
      "outputs": [
        {
          "output_type": "error",
          "ename": "KeyError",
          "evalue": "'가정의학과'",
          "traceback": [
            "\u001b[0;31m---------------------------------------------------------------------------\u001b[0m",
            "\u001b[0;31mKeyError\u001b[0m                                  Traceback (most recent call last)",
            "\u001b[0;32m/tmp/ipython-input-2702649790.py\u001b[0m in \u001b[0;36m<cell line: 0>\u001b[0;34m()\u001b[0m\n\u001b[0;32m----> 1\u001b[0;31m \u001b[0mprint\u001b[0m\u001b[0;34m(\u001b[0m\u001b[0mhospital_dict\u001b[0m\u001b[0;34m[\u001b[0m\u001b[0;34m'가정의학과'\u001b[0m\u001b[0;34m]\u001b[0m\u001b[0;34m)\u001b[0m\u001b[0;34m\u001b[0m\u001b[0;34m\u001b[0m\u001b[0m\n\u001b[0m",
            "\u001b[0;31mKeyError\u001b[0m: '가정의학과'"
          ]
        }
      ]
    },
    {
      "cell_type": "code",
      "source": [
        "####################### defaultdict을 사용했을 때 #######################\n",
        "from collections import defaultdict\n",
        "hospital_dict = defaultdict(int)\n",
        "\n",
        "hospital_dict['내분비내과'] = 10\n",
        "hospital_dict['정형외과'] = 2\n",
        "\n",
        "print(hospital_dict)"
      ],
      "metadata": {
        "colab": {
          "base_uri": "https://localhost:8080/"
        },
        "id": "j6_3KLXq8KDN",
        "outputId": "ae247e20-1d24-4055-d477-8916bffa1734"
      },
      "execution_count": 40,
      "outputs": [
        {
          "output_type": "stream",
          "name": "stdout",
          "text": [
            "defaultdict(<class 'int'>, {'내분비내과': 10, '정형외과': 2})\n"
          ]
        }
      ]
    },
    {
      "cell_type": "code",
      "source": [
        "print(hospital_dict['가정의학과'])"
      ],
      "metadata": {
        "colab": {
          "base_uri": "https://localhost:8080/"
        },
        "id": "stzGLiizAX5J",
        "outputId": "49a5a836-49d5-403a-96e3-ad38334e6b95"
      },
      "execution_count": 41,
      "outputs": [
        {
          "output_type": "stream",
          "name": "stdout",
          "text": [
            "0\n"
          ]
        }
      ]
    },
    {
      "cell_type": "code",
      "source": [
        "print(hospital_dict)"
      ],
      "metadata": {
        "colab": {
          "base_uri": "https://localhost:8080/"
        },
        "id": "E8-Khp9XAXwb",
        "outputId": "8e24d935-992a-4f8a-a535-640e7dcf20a7"
      },
      "execution_count": 42,
      "outputs": [
        {
          "output_type": "stream",
          "name": "stdout",
          "text": [
            "defaultdict(<class 'int'>, {'내분비내과': 10, '정형외과': 2, '가정의학과': 0})\n"
          ]
        }
      ]
    },
    {
      "cell_type": "code",
      "source": [
        "## 2. 조건문\n",
        "# # if문 서식\n",
        "# if [조건식]:\n",
        "#     [조건식이 참일 때 실행코드]\n",
        "# else:\n",
        "#     [조건식이 참이 아닐 때 실행코드]\n",
        "\n",
        "a = 1\n",
        "if a % 2 == 0: #조건식 : a를 2로 나눴을 때 나머지가 0인 경우\n",
        "    print(\"짝수\")\n",
        "else:\n",
        "    print(\"홀수\") #조건식이 참이 아닌 경우 \"홀수\" 라고 출력\n"
      ],
      "metadata": {
        "colab": {
          "base_uri": "https://localhost:8080/"
        },
        "id": "vcYD-Yzs-JzH",
        "outputId": "d6a2c278-864a-4104-fdf7-acee03e9c1bc"
      },
      "execution_count": 43,
      "outputs": [
        {
          "output_type": "stream",
          "name": "stdout",
          "text": [
            "홀수\n"
          ]
        }
      ]
    },
    {
      "cell_type": "code",
      "source": [
        "# # if ~elif ~else 명령문 서식\n",
        "# if [조건식1]:\n",
        "#     [조건식1이 참일 때 실행코드]\n",
        "# elif [조건식2]:\n",
        "#     [조건식1이 참이 아니고, 조건식2가 참일 때 실행코드]\n",
        "# else:\n",
        "#     [위에 언급된 어떤 조건도 참이 아닐 때 실행코드]\n",
        "\n",
        "내분비내과 = 130\n",
        "\n",
        "if 내분비내과 > 100:\n",
        "    print(\"초과\")\n",
        "elif 내분비내과 == 100:\n",
        "    print(\"100명\")\n",
        "else:\n",
        "    print(\"미만\")"
      ],
      "metadata": {
        "colab": {
          "base_uri": "https://localhost:8080/"
        },
        "id": "z6PPi-fK8KAm",
        "outputId": "2ff20e62-9618-4914-8bd3-bdce31707a4b"
      },
      "execution_count": 11,
      "outputs": [
        {
          "output_type": "stream",
          "name": "stdout",
          "text": [
            "초과\n"
          ]
        }
      ]
    },
    {
      "cell_type": "code",
      "source": [
        " ## 3. 반복문\n",
        " # <for문>\n",
        "#  #for문 서식1: 연속적인 값을 차례대로 순회할 때 range()주로 사용\n",
        "# for [카운터변수] in range([시작값], [끝값]+1, [증가값]):\n",
        "#     [반복해서 실행할 코드] #들여쓰기: 실행문은 빈칸 4칸을 띄우고 써야함\n",
        "\n",
        "\n",
        "i = 0\n",
        "sum = 0\n",
        "\n",
        "for i in range(1,11,2):\n",
        "    sum = sum + i\n",
        "\n",
        "print(sum)\n"
      ],
      "metadata": {
        "colab": {
          "base_uri": "https://localhost:8080/"
        },
        "id": "Bh_ZNfoN8J62",
        "outputId": "4eba11d6-9879-4b6e-e487-5a3ca1861b9f"
      },
      "execution_count": 9,
      "outputs": [
        {
          "output_type": "stream",
          "name": "stdout",
          "text": [
            "25\n"
          ]
        }
      ]
    },
    {
      "cell_type": "code",
      "source": [
        "# # for문 서식2\n",
        "# for [카운터변수] in [데이터열]:\n",
        "#     [반복처리]\n",
        "\n",
        "patient_age = [15,19,20,40,59]\n",
        "for i in patient_age:\n",
        "    print(i-1)"
      ],
      "metadata": {
        "colab": {
          "base_uri": "https://localhost:8080/"
        },
        "id": "qXLXT0OD8J9T",
        "outputId": "78b62958-1a06-4e40-ad58-ecc93ea488ff"
      },
      "execution_count": 10,
      "outputs": [
        {
          "output_type": "stream",
          "name": "stdout",
          "text": [
            "14\n",
            "18\n",
            "19\n",
            "39\n",
            "58\n"
          ]
        }
      ]
    },
    {
      "cell_type": "code",
      "source": [
        "# <while문>\n",
        "# while문 서식\n",
        "# [변수] = [시작값] #초기식\n",
        "# while [변수값] <= [끝값]: #조건식\n",
        "# [반복해서 실행할 코드]\n",
        "# [변수] = [변수] + [증가값] #변화식 #들여쓰기: 실행문은 빈칸 4칸을 띄우고 써야함\n",
        "\n",
        "i = 0\n",
        "sum = 0\n",
        "\n",
        "while i <= 10:  #i가 10 이하일때까지\n",
        "    print(i)\n",
        "    sum = sum + i\n",
        "    i = i + 1\n",
        "print(\"총합 :\", sum)"
      ],
      "metadata": {
        "colab": {
          "base_uri": "https://localhost:8080/"
        },
        "id": "eR2p8G1p8J3r",
        "outputId": "8c44dcd5-3c82-48c8-e3b6-3f58edf1f536"
      },
      "execution_count": 5,
      "outputs": [
        {
          "output_type": "stream",
          "name": "stdout",
          "text": [
            "0\n",
            "1\n",
            "2\n",
            "3\n",
            "4\n",
            "5\n",
            "6\n",
            "7\n",
            "8\n",
            "9\n",
            "10\n",
            "총합 : 55\n"
          ]
        }
      ]
    },
    {
      "cell_type": "markdown",
      "source": [
        "### <기타: 반복종료, 건너뛰기>\n",
        "#### 반복처리 중간에 종료하거나 명령문을 건너뛰는 것도 가능\n",
        "#### 종료하는 경우에는 break문을 사용하고, 건너뛰는 경우에는 continue문을 사용\n",
        "\n",
        "     4. break문, continue문"
      ],
      "metadata": {
        "id": "0xPJWQBm9IPc"
      }
    },
    {
      "cell_type": "code",
      "source": [
        " # ▶ break문\n",
        " #break문 서식\n",
        "# for [변수] in [데이터열]:\n",
        "#     [실행되는 처리]\n",
        "#     break\n",
        "#     [실행되지 않는 처리]\n",
        "\n",
        "for i in range(10000):\n",
        "    print(i)\n",
        "    if i == 4:\n",
        "        break"
      ],
      "metadata": {
        "colab": {
          "base_uri": "https://localhost:8080/"
        },
        "id": "ytCqZYQi8J0p",
        "outputId": "381b129c-ea17-4950-f4f5-d7416a6852b3"
      },
      "execution_count": 4,
      "outputs": [
        {
          "output_type": "stream",
          "name": "stdout",
          "text": [
            "0\n",
            "1\n",
            "2\n",
            "3\n",
            "4\n"
          ]
        }
      ]
    },
    {
      "cell_type": "code",
      "execution_count": 3,
      "metadata": {
        "id": "xwlhIbG7mnCt",
        "colab": {
          "base_uri": "https://localhost:8080/"
        },
        "outputId": "487cdd04-578f-41b7-b9d4-561629b85219"
      },
      "outputs": [
        {
          "output_type": "stream",
          "name": "stdout",
          "text": [
            "18\n",
            "53\n"
          ]
        }
      ],
      "source": [
        " # ▶ continue문\n",
        " #continue문 서식\n",
        "# for [변수] in [데이터열]:\n",
        "#     [실행되는 명령문]\n",
        "#     continue\n",
        "#     # [실행 안 되는 명령문]\n",
        "\n",
        "patient_age=[66,19,75,66,98,101,54]\n",
        "\n",
        "for i in patient_age:\n",
        "    if i >= 65:\n",
        "        continue\n",
        "    print(i-1)\n",
        ""
      ]
    },
    {
      "cell_type": "code",
      "source": [],
      "metadata": {
        "id": "uwx9fnUJ85K7"
      },
      "execution_count": null,
      "outputs": []
    }
  ]
}